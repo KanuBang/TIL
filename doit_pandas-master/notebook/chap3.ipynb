{
 "cells": [
  {
   "cell_type": "code",
   "execution_count": 1,
   "id": "1fea6311-9ef7-4a17-906b-79bc1f5cb966",
   "metadata": {},
   "outputs": [
    {
     "name": "stdout",
     "output_type": "stream",
     "text": [
      "hello\n"
     ]
    }
   ],
   "source": [
    "print(\"hello\")"
   ]
  },
  {
   "cell_type": "code",
   "execution_count": 7,
   "id": "3f477408-76da-44b9-bc3a-64f555cbb735",
   "metadata": {},
   "outputs": [],
   "source": [
    "%matplotlib inline\n",
    "import matplotlib.pyplot as plt"
   ]
  },
  {
   "cell_type": "code",
   "execution_count": 15,
   "id": "528f728c-7418-4081-ac67-62bb06be6d91",
   "metadata": {},
   "outputs": [
    {
     "name": "stdout",
     "output_type": "stream",
     "text": [
      "0    banana\n",
      "1        42\n",
      "dtype: object\n"
     ]
    }
   ],
   "source": [
    "# 시리즈를 생성할 때는 리스트를 전달한다.\n",
    "import pandas as pd\n",
    "s = pd.Series(['banana', 42])\n",
    "print(s)"
   ]
  },
  {
   "cell_type": "code",
   "execution_count": 17,
   "id": "cdd6bd70-45a2-43f2-9e50-59934edb5fec",
   "metadata": {},
   "outputs": [
    {
     "name": "stdout",
     "output_type": "stream",
     "text": [
      "Person         Wes McKinney\n",
      "Who       Creator of Pandas\n",
      "dtype: object\n"
     ]
    }
   ],
   "source": [
    "# 시리즈를 생성할 때는 문자열 인덱스를 지정할 수 있다.\n",
    "s = pd.Series(['Wes McKinney', 'Creator of Pandas'], index=['Person','Who'])\n",
    "print(s)"
   ]
  },
  {
   "cell_type": "code",
   "execution_count": 19,
   "id": "e4c14c06-e664-4f90-82c0-a9c80aa03ee8",
   "metadata": {},
   "outputs": [
    {
     "name": "stdout",
     "output_type": "stream",
     "text": [
      "    Name Position   Nation\n",
      "0  Dawin  Biology  England\n",
      "1   Mary  Chemist   Poland\n"
     ]
    }
   ],
   "source": [
    "# 데이터프레임을 생성할 때는 딕셔너리를 이용해라\n",
    "scientists = pd.DataFrame({\n",
    "    'Name' : ['Darwin','Mary'],\n",
    "    'Position' : ['Biology', 'Chemist'],\n",
    "    'Nation' : ['England', 'Poland']\n",
    "})\n",
    "\n",
    "print(scientists)"
   ]
  },
  {
   "cell_type": "code",
   "execution_count": 39,
   "id": "602ba5ba-48e9-4599-9b06-8443ed1add83",
   "metadata": {},
   "outputs": [
    {
     "name": "stdout",
     "output_type": "stream",
     "text": [
      "           Nation Position\n",
      "C.Darwin  England  Biology\n",
      "M.Curie    Poland  Chemist\n"
     ]
    }
   ],
   "source": [
    "# 데이터프레임을 인자에 딕셔너리를 전달해 생성하기\n",
    "scientists = pd.DataFrame(\n",
    "    data={'Position' : ['Biology', 'Chemist'],\n",
    "            'Nation' : ['England', 'Poland']},\n",
    "    index = ['C.Darwin','M.Curie'],\n",
    "    columns = ['Nation','Position']\n",
    ")\n",
    "\n",
    "print(scientists)"
   ]
  },
  {
   "cell_type": "code",
   "execution_count": 47,
   "id": "7656a949-aaa3-4d40-a2ba-cb351a377ba5",
   "metadata": {},
   "outputs": [
    {
     "name": "stdout",
     "output_type": "stream",
     "text": [
      "       Name Position   Nation  Born\n",
      "0  C.Darwin  Biology  England  1902\n",
      "1   M.Curie  Chemist  Belgium  1904\n"
     ]
    }
   ],
   "source": [
    "# OrderedDict 순서가 보장된 딕셔너리\n",
    "from collections import OrderedDict\n",
    "\n",
    "scientists = pd.DataFrame(OrderedDict([\n",
    "      ('Name', ['C.Darwin','M.Curie']),\n",
    "      ('Position', ['Biology', 'Chemist']),\n",
    "      ('Nation', ['England','Belgium']),\n",
    "      ('Born', [1902,1904])\n",
    "]))\n",
    "\n",
    "print(scientists)"
   ]
  },
  {
   "cell_type": "code",
   "execution_count": 89,
   "id": "6ebf6197-cb5f-4084-94da-739254fce12d",
   "metadata": {},
   "outputs": [],
   "source": [
    "# Series 선택하기 -> loc 속성에 인덱스 전달하기\n",
    "scientists = pd.DataFrame(\n",
    "    data = {\n",
    "        'Position' : ['Biology','Chemist'],\n",
    "        'Nation' : ['Nation','Position'],\n",
    "        'Age' : [67, 33]\n",
    "    },\n",
    "    index = ['darwin', 'curie'])"
   ]
  },
  {
   "cell_type": "code",
   "execution_count": 91,
   "id": "5c3b05ee-5d3b-4249-bb6e-04e57cfdf42d",
   "metadata": {},
   "outputs": [
    {
     "name": "stdout",
     "output_type": "stream",
     "text": [
      "Position    Biology\n",
      "Nation       Nation\n",
      "Age              67\n",
      "Name: darwin, dtype: object\n",
      "Index(['Position', 'Nation', 'Age'], dtype='object')\n",
      "['Biology' 'Nation' 67]\n",
      "Index(['Position', 'Nation', 'Age'], dtype='object')\n",
      "Position\n",
      "Position\n"
     ]
    }
   ],
   "source": [
    "# 시리즈 속성과 메서드 사용하기 - index, values, keys\n",
    "first_row = scientists.loc['darwin']\n",
    "print(first_row)\n",
    "print(first_row.index) # 시리즈의 인덱스가 들어 있다.\n",
    "print(first_row.values) # 시리즈의 데이터가 저장되어 있다.\n",
    "print(first_row.keys()) # 시리즈의 인덱스를 리턴한다.\n",
    "print(first_row.index[0]) # 시리즈의 첫 번째 인덱스 \n",
    "print(first_row.keys()[0]) # 시리즈의 첫 번째 인덱스"
   ]
  },
  {
   "cell_type": "code",
   "execution_count": 107,
   "id": "0e97ef2b-f6ca-4589-a80b-0f02f5d200fd",
   "metadata": {},
   "outputs": [
    {
     "name": "stdout",
     "output_type": "stream",
     "text": [
      "darwin    67\n",
      "curie     33\n",
      "Name: Age, dtype: int64\n",
      "100\n",
      "50.0\n",
      "24.041630560342615\n",
      "33\n",
      "67\n",
      "count     2.000000\n",
      "mean     50.000000\n",
      "std      24.041631\n",
      "min      33.000000\n",
      "25%      41.500000\n",
      "50%      50.000000\n",
      "75%      58.500000\n",
      "max      67.000000\n",
      "Name: Age, dtype: float64\n"
     ]
    }
   ],
   "source": [
    "# 열 추출, 시리즈를 구성하는 데이터가 정수라면 통계 메서드 사용 가능\n",
    "age = scientists['Age']\n",
    "print(age)\n",
    "print(age.sum())\n",
    "print(age.mean())\n",
    "print(age.std())\n",
    "print(age.min())\n",
    "print(age.max())\n",
    "print(age.describe()) # 요약 통계량"
   ]
  },
  {
   "cell_type": "code",
   "execution_count": 103,
   "id": "de0e44a0-db45-4a03-8895-68b8635035ea",
   "metadata": {},
   "outputs": [
    {
     "name": "stdout",
     "output_type": "stream",
     "text": [
      "count     2.000000\n",
      "mean     50.000000\n",
      "std      24.041631\n",
      "min      33.000000\n",
      "25%      41.500000\n",
      "50%      50.000000\n",
      "75%      58.500000\n",
      "max      67.000000\n",
      "Name: Age, dtype: float64\n"
     ]
    }
   ],
   "source": []
  },
  {
   "cell_type": "code",
   "execution_count": null,
   "id": "0b51455d-8409-484a-b8f9-1300af4fb761",
   "metadata": {},
   "outputs": [],
   "source": []
  }
 ],
 "metadata": {
  "kernelspec": {
   "display_name": "Python 3 (ipykernel)",
   "language": "python",
   "name": "python3"
  },
  "language_info": {
   "codemirror_mode": {
    "name": "ipython",
    "version": 3
   },
   "file_extension": ".py",
   "mimetype": "text/x-python",
   "name": "python",
   "nbconvert_exporter": "python",
   "pygments_lexer": "ipython3",
   "version": "3.11.4"
  }
 },
 "nbformat": 4,
 "nbformat_minor": 5
}
