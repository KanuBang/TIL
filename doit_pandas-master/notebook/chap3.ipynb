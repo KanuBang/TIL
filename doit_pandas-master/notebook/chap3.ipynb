{
 "cells": [
  {
   "cell_type": "code",
   "execution_count": 1,
   "id": "1fea6311-9ef7-4a17-906b-79bc1f5cb966",
   "metadata": {},
   "outputs": [
    {
     "name": "stdout",
     "output_type": "stream",
     "text": [
      "hello\n"
     ]
    }
   ],
   "source": [
    "print(\"hello\")"
   ]
  },
  {
   "cell_type": "code",
   "execution_count": 7,
   "id": "3f477408-76da-44b9-bc3a-64f555cbb735",
   "metadata": {},
   "outputs": [],
   "source": [
    "%matplotlib inline\n",
    "import matplotlib.pyplot as plt"
   ]
  },
  {
   "cell_type": "code",
   "execution_count": 15,
   "id": "528f728c-7418-4081-ac67-62bb06be6d91",
   "metadata": {},
   "outputs": [
    {
     "name": "stdout",
     "output_type": "stream",
     "text": [
      "0    banana\n",
      "1        42\n",
      "dtype: object\n"
     ]
    }
   ],
   "source": [
    "# 시리즈를 생성할 때는 리스트를 전달한다.\n",
    "import pandas as pd\n",
    "s = pd.Series(['banana', 42])\n",
    "print(s)"
   ]
  },
  {
   "cell_type": "code",
   "execution_count": 17,
   "id": "cdd6bd70-45a2-43f2-9e50-59934edb5fec",
   "metadata": {},
   "outputs": [
    {
     "name": "stdout",
     "output_type": "stream",
     "text": [
      "Person         Wes McKinney\n",
      "Who       Creator of Pandas\n",
      "dtype: object\n"
     ]
    }
   ],
   "source": [
    "# 시리즈를 생성할 때는 문자열 인덱스를 지정할 수 있다.\n",
    "s = pd.Series(['Wes McKinney', 'Creator of Pandas'], index=['Person','Who'])\n",
    "print(s)"
   ]
  },
  {
   "cell_type": "code",
   "execution_count": 19,
   "id": "e4c14c06-e664-4f90-82c0-a9c80aa03ee8",
   "metadata": {},
   "outputs": [
    {
     "name": "stdout",
     "output_type": "stream",
     "text": [
      "    Name Position   Nation\n",
      "0  Dawin  Biology  England\n",
      "1   Mary  Chemist   Poland\n"
     ]
    }
   ],
   "source": [
    "# 데이터프레임을 생성할 때는 딕셔너리를 이용해라\n",
    "scientists = pd.DataFrame({\n",
    "    'Name' : ['Darwin','Mary'],\n",
    "    'Position' : ['Biology', 'Chemist'],\n",
    "    'Nation' : ['England', 'Poland']\n",
    "})\n",
    "\n",
    "print(scientists)"
   ]
  },
  {
   "cell_type": "code",
   "execution_count": 39,
   "id": "602ba5ba-48e9-4599-9b06-8443ed1add83",
   "metadata": {},
   "outputs": [
    {
     "name": "stdout",
     "output_type": "stream",
     "text": [
      "           Nation Position\n",
      "C.Darwin  England  Biology\n",
      "M.Curie    Poland  Chemist\n"
     ]
    }
   ],
   "source": [
    "# 데이터프레임을 인자에 딕셔너리를 전달해 생성하기\n",
    "scientists = pd.DataFrame(\n",
    "    data={'Position' : ['Biology', 'Chemist'],\n",
    "            'Nation' : ['England', 'Poland']},\n",
    "    index = ['C.Darwin','M.Curie'],\n",
    "    columns = ['Nation','Position']\n",
    ")\n",
    "\n",
    "print(scientists)"
   ]
  },
  {
   "cell_type": "code",
   "execution_count": 37,
   "id": "7656a949-aaa3-4d40-a2ba-cb351a377ba5",
   "metadata": {},
   "outputs": [],
   "source": [
    "from collections import OrderedDict\n",
    "\n",
    "scientists = pd.DataFrame(OrderedDict([\n",
    "      ('Name', ['C.Darwin','M.Curie']),\n",
    "      ('Position', ['Biology', 'Chemist']),\n",
    "      ('Nation', ['England','Belgi]\n",
    "      ('Born', [1902,1904])\n",
    "]))"
   ]
  },
  {
   "cell_type": "code",
   "execution_count": null,
   "id": "6ebf6197-cb5f-4084-94da-739254fce12d",
   "metadata": {},
   "outputs": [],
   "source": []
  }
 ],
 "metadata": {
  "kernelspec": {
   "display_name": "Python 3 (ipykernel)",
   "language": "python",
   "name": "python3"
  },
  "language_info": {
   "codemirror_mode": {
    "name": "ipython",
    "version": 3
   },
   "file_extension": ".py",
   "mimetype": "text/x-python",
   "name": "python",
   "nbconvert_exporter": "python",
   "pygments_lexer": "ipython3",
   "version": "3.11.4"
  }
 },
 "nbformat": 4,
 "nbformat_minor": 5
}
