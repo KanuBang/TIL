{
 "cells": [
  {
   "cell_type": "code",
   "execution_count": 1,
   "id": "1fea6311-9ef7-4a17-906b-79bc1f5cb966",
   "metadata": {},
   "outputs": [
    {
     "name": "stdout",
     "output_type": "stream",
     "text": [
      "hello\n"
     ]
    }
   ],
   "source": [
    "print(\"hello\")"
   ]
  },
  {
   "cell_type": "code",
   "execution_count": 2,
   "id": "3f477408-76da-44b9-bc3a-64f555cbb735",
   "metadata": {},
   "outputs": [],
   "source": [
    "%matplotlib inline\n",
    "import matplotlib.pyplot as plt"
   ]
  },
  {
   "cell_type": "code",
   "execution_count": 3,
   "id": "528f728c-7418-4081-ac67-62bb06be6d91",
   "metadata": {},
   "outputs": [
    {
     "name": "stdout",
     "output_type": "stream",
     "text": [
      "0    banana\n",
      "1        42\n",
      "dtype: object\n"
     ]
    }
   ],
   "source": [
    "# 시리즈를 생성할 때는 리스트를 전달한다.\n",
    "import pandas as pd\n",
    "s = pd.Series(['banana', 42])\n",
    "print(s)"
   ]
  },
  {
   "cell_type": "code",
   "execution_count": 4,
   "id": "cdd6bd70-45a2-43f2-9e50-59934edb5fec",
   "metadata": {},
   "outputs": [
    {
     "name": "stdout",
     "output_type": "stream",
     "text": [
      "Person         Wes McKinney\n",
      "Who       Creator of Pandas\n",
      "dtype: object\n"
     ]
    }
   ],
   "source": [
    "# 시리즈를 생성할 때는 문자열 인덱스를 지정할 수 있다.\n",
    "s = pd.Series(['Wes McKinney', 'Creator of Pandas'], index=['Person','Who'])\n",
    "print(s)"
   ]
  },
  {
   "cell_type": "code",
   "execution_count": 5,
   "id": "e4c14c06-e664-4f90-82c0-a9c80aa03ee8",
   "metadata": {},
   "outputs": [
    {
     "name": "stdout",
     "output_type": "stream",
     "text": [
      "     Name Position   Nation\n",
      "0  Darwin  Biology  England\n",
      "1    Mary  Chemist   Poland\n"
     ]
    }
   ],
   "source": [
    "# 데이터프레임을 생성할 때는 딕셔너리를 이용해라\n",
    "scientists = pd.DataFrame({\n",
    "    'Name' : ['Darwin','Mary'],\n",
    "    'Position' : ['Biology', 'Chemist'],\n",
    "    'Nation' : ['England', 'Poland']\n",
    "})\n",
    "\n",
    "print(scientists)"
   ]
  },
  {
   "cell_type": "code",
   "execution_count": 6,
   "id": "602ba5ba-48e9-4599-9b06-8443ed1add83",
   "metadata": {},
   "outputs": [
    {
     "name": "stdout",
     "output_type": "stream",
     "text": [
      "           Nation Position\n",
      "C.Darwin  England  Biology\n",
      "M.Curie    Poland  Chemist\n"
     ]
    }
   ],
   "source": [
    "# 데이터프레임을 인자에 딕셔너리를 전달해 생성하기\n",
    "scientists = pd.DataFrame(\n",
    "    data={'Position' : ['Biology', 'Chemist'],\n",
    "            'Nation' : ['England', 'Poland']},\n",
    "    index = ['C.Darwin','M.Curie'],\n",
    "    columns = ['Nation','Position']\n",
    ")\n",
    "\n",
    "print(scientists)"
   ]
  },
  {
   "cell_type": "code",
   "execution_count": 7,
   "id": "7656a949-aaa3-4d40-a2ba-cb351a377ba5",
   "metadata": {},
   "outputs": [
    {
     "name": "stdout",
     "output_type": "stream",
     "text": [
      "       Name Position   Nation  Born\n",
      "0  C.Darwin  Biology  England  1902\n",
      "1   M.Curie  Chemist  Belgium  1904\n"
     ]
    }
   ],
   "source": [
    "# OrderedDict 순서가 보장된 딕셔너리\n",
    "from collections import OrderedDict\n",
    "\n",
    "scientists = pd.DataFrame(OrderedDict([\n",
    "      ('Name', ['C.Darwin','M.Curie']),\n",
    "      ('Position', ['Biology', 'Chemist']),\n",
    "      ('Nation', ['England','Belgium']),\n",
    "      ('Born', [1902,1904])\n",
    "]))\n",
    "\n",
    "print(scientists)"
   ]
  },
  {
   "cell_type": "code",
   "execution_count": 8,
   "id": "6ebf6197-cb5f-4084-94da-739254fce12d",
   "metadata": {},
   "outputs": [],
   "source": [
    "# Series 선택하기 -> loc 속성에 인덱스 전달하기\n",
    "scientists = pd.DataFrame(\n",
    "    data = {\n",
    "        'Position' : ['Biology','Chemist'],\n",
    "        'Nation' : ['Nation','Position'],\n",
    "        'Age' : [67, 33]\n",
    "    },\n",
    "    index = ['darwin', 'curie'])"
   ]
  },
  {
   "cell_type": "code",
   "execution_count": 9,
   "id": "5c3b05ee-5d3b-4249-bb6e-04e57cfdf42d",
   "metadata": {},
   "outputs": [
    {
     "name": "stdout",
     "output_type": "stream",
     "text": [
      "Position    Biology\n",
      "Nation       Nation\n",
      "Age              67\n",
      "Name: darwin, dtype: object\n",
      "Index(['Position', 'Nation', 'Age'], dtype='object')\n",
      "['Biology' 'Nation' 67]\n",
      "Index(['Position', 'Nation', 'Age'], dtype='object')\n",
      "Position\n",
      "Position\n"
     ]
    }
   ],
   "source": [
    "# 시리즈 속성과 메서드 사용하기 - index, values, keys\n",
    "first_row = scientists.loc['darwin']\n",
    "print(first_row)\n",
    "print(first_row.index) # 시리즈의 인덱스가 들어 있다.\n",
    "print(first_row.values) # 시리즈의 데이터가 저장되어 있다.\n",
    "print(first_row.keys()) # 시리즈의 인덱스를 리턴한다.\n",
    "print(first_row.index[0]) # 시리즈의 첫 번째 인덱스 \n",
    "print(first_row.keys()[0]) # 시리즈의 첫 번째 인덱스"
   ]
  },
  {
   "cell_type": "code",
   "execution_count": 10,
   "id": "0e97ef2b-f6ca-4589-a80b-0f02f5d200fd",
   "metadata": {},
   "outputs": [
    {
     "name": "stdout",
     "output_type": "stream",
     "text": [
      "darwin    67\n",
      "curie     33\n",
      "Name: Age, dtype: int64\n",
      "100\n",
      "50.0\n",
      "24.041630560342615\n",
      "33\n",
      "67\n",
      "count     2.000000\n",
      "mean     50.000000\n",
      "std      24.041631\n",
      "min      33.000000\n",
      "25%      41.500000\n",
      "50%      50.000000\n",
      "75%      58.500000\n",
      "max      67.000000\n",
      "Name: Age, dtype: float64\n"
     ]
    }
   ],
   "source": [
    "# 열 추출, 시리즈를 구성하는 데이터가 정수라면 통계 메서드 사용 가능\n",
    "age = scientists['Age']\n",
    "print(age)\n",
    "print(age.sum())\n",
    "print(age.mean())\n",
    "print(age.std())\n",
    "print(age.min())\n",
    "print(age.max())\n",
    "print(age.describe()) # 요약 통계량"
   ]
  },
  {
   "cell_type": "code",
   "execution_count": 11,
   "id": "de0e44a0-db45-4a03-8895-68b8635035ea",
   "metadata": {},
   "outputs": [
    {
     "name": "stdout",
     "output_type": "stream",
     "text": [
      "                   Name        Born        Died  Age          Occupation\n",
      "0     Rosaline Franklin  1920-07-25  1958-04-16   37             Chemist\n",
      "1        William Gosset  1876-06-13  1937-10-16   61        Statistician\n",
      "2  Florence Nightingale  1820-05-12  1910-08-13   90               Nurse\n",
      "3           Marie Curie  1867-11-07  1934-07-04   66             Chemist\n",
      "4         Rachel Carson  1907-05-27  1964-04-14   56           Biologist\n",
      "5             John Snow  1813-03-15  1858-06-16   45           Physician\n",
      "6           Alan Turing  1912-06-23  1954-06-07   41  Computer Scientist\n",
      "7          Johann Gauss  1777-04-30  1855-02-23   77       Mathematician\n"
     ]
    }
   ],
   "source": [
    "scientists = pd.read_csv('../data/scientists.csv')\n",
    "print(scientists)"
   ]
  },
  {
   "cell_type": "code",
   "execution_count": 12,
   "id": "0b51455d-8409-484a-b8f9-1300af4fb761",
   "metadata": {},
   "outputs": [
    {
     "name": "stdout",
     "output_type": "stream",
     "text": [
      "90\n",
      "59.125\n"
     ]
    }
   ],
   "source": [
    "ages = scientists['Age']\n",
    "print(ages.max())\n",
    "print(ages.mean())"
   ]
  },
  {
   "cell_type": "code",
   "execution_count": 13,
   "id": "2b0c755b-f12f-4cb0-8fb6-8ec644769f86",
   "metadata": {},
   "outputs": [
    {
     "name": "stdout",
     "output_type": "stream",
     "text": [
      "1    61\n",
      "2    90\n",
      "3    66\n",
      "7    77\n",
      "Name: Age, dtype: int64\n",
      "0    False\n",
      "1     True\n",
      "2     True\n",
      "3     True\n",
      "4    False\n",
      "5    False\n",
      "6    False\n",
      "7     True\n",
      "Name: Age, dtype: bool\n",
      "<class 'pandas.core.series.Series'>\n",
      "0    37\n",
      "1    61\n",
      "4    56\n",
      "5    45\n",
      "7    77\n",
      "Name: Age, dtype: int64\n"
     ]
    }
   ],
   "source": [
    "# 평균 나이보다 나이가 많은 사람의 데이터를 추출\n",
    "print(ages[ages > ages.mean()])\n",
    "\n",
    "# 조건식 출력\n",
    "print(ages > ages.mean())\n",
    "print(type(ages > ages.mean()))\n",
    "\n",
    "# 불린 추출 -> 리스트로 형태로 참이나 거짓을 담아 시리즈에 전달하면 참인 인덱스의 데이터만 추출할 수 있다.\n",
    "manual_bool_values = [True,True,False,False,True,True,False,True]\n",
    "print(ages[manual_bool_values])"
   ]
  },
  {
   "cell_type": "code",
   "execution_count": 51,
   "id": "ca3c05c3-5e77-4dab-aa4e-5ffdb0ca3590",
   "metadata": {},
   "outputs": [
    {
     "name": "stdout",
     "output_type": "stream",
     "text": [
      "0    37\n",
      "1    61\n",
      "2    90\n",
      "3    66\n",
      "4    56\n",
      "5    45\n",
      "6    41\n",
      "7    77\n",
      "Name: Age, dtype: int64\n",
      "0     74\n",
      "1    122\n",
      "2    180\n",
      "3    132\n",
      "4    112\n",
      "5     90\n",
      "6     82\n",
      "7    154\n",
      "Name: Age, dtype: int64\n",
      "0    137\n",
      "1    161\n",
      "2    190\n",
      "3    166\n",
      "4    156\n",
      "5    145\n",
      "6    141\n",
      "7    177\n",
      "Name: Age, dtype: int64\n",
      "0     38.0\n",
      "1    161.0\n",
      "2      NaN\n",
      "3      NaN\n",
      "4      NaN\n",
      "5      NaN\n",
      "6      NaN\n",
      "7      NaN\n",
      "dtype: float64\n",
      "7    77\n",
      "6    41\n",
      "5    45\n",
      "4    56\n",
      "3    66\n",
      "2    90\n",
      "1    61\n",
      "0    37\n",
      "Name: Age, dtype: int64\n"
     ]
    }
   ],
   "source": [
    "#브로드캐스팅 - 시리즈나 데이터프레임에 있는 모든 데이터에 대해 한 번에 연산하는 것을 뜻함.\n",
    "#벡터 - 시리즈처럼 여러 개의 값을 가진 데이터\n",
    "#스칼라 - 단순 크기를 나타내는 데이터\n",
    "print(ages)\n",
    "\n",
    "# 같은 길이의 벡터로 더하기 연산과 곱하기 연산을 수행. 결과값으로는 같은 길이의 벡터가 출력된다.\n",
    "print(ages+ages)\n",
    "\n",
    "# 벡터에 스칼라 연산 -> 벡터의 모든 값에 스칼라를 적용하여 브로드캐스팅 연산을 함\n",
    "print(ages+100)\n",
    "\n",
    "# 크기다 다른 벡터의 연산 -> 계산할 수 없는 부분은 NaN 누락값으로 처리한다.\n",
    "print(ages + pd.Series([1,100]))\n",
    "\n",
    "# sort_index 메서드를 사용, ascending 인자로 False를 전달하여 인덱스 연순으로 데이터를 정렬\n",
    "rev_ages = ages.sort_index(ascending = False)\n",
    "print(rev_ages)"
   ]
  },
  {
   "cell_type": "code",
   "execution_count": 63,
   "id": "fefe7485-465c-4204-b22b-7ec8de5164d3",
   "metadata": {},
   "outputs": [
    {
     "name": "stdout",
     "output_type": "stream",
     "text": [
      "0    37\n",
      "1    61\n",
      "2    90\n",
      "3    66\n",
      "4    56\n",
      "5    45\n",
      "6    41\n",
      "7    77\n",
      "Name: Age, dtype: int64\n",
      "7    77\n",
      "6    41\n",
      "5    45\n",
      "4    56\n",
      "3    66\n",
      "2    90\n",
      "1    61\n",
      "0    37\n",
      "Name: Age, dtype: int64\n",
      "0     74\n",
      "1    122\n",
      "2    180\n",
      "3    132\n",
      "4    112\n",
      "5     90\n",
      "6     82\n",
      "7    154\n",
      "Name: Age, dtype: int64\n",
      "0     74\n",
      "1    122\n",
      "2    180\n",
      "3    132\n",
      "4    112\n",
      "5     90\n",
      "6     82\n",
      "7    154\n",
      "Name: Age, dtype: int64\n"
     ]
    }
   ],
   "source": [
    "#벡터와 벡터의 연산은 일치하는 인덱스의 값끼리 수행한다는 것을 잊지 말자.\n",
    "print(ages)\n",
    "print(rev_ages)\n",
    "print(ages * 2)\n",
    "print(ages + rev_ages)"
   ]
  },
  {
   "cell_type": "code",
   "execution_count": 69,
   "id": "2ac4ce32-2998-4819-a95e-9756ccbaba0b",
   "metadata": {},
   "outputs": [
    {
     "name": "stdout",
     "output_type": "stream",
     "text": [
      "                   Name        Born        Died  Age     Occupation\n",
      "1        William Gosset  1876-06-13  1937-10-16   61   Statistician\n",
      "2  Florence Nightingale  1820-05-12  1910-08-13   90          Nurse\n",
      "3           Marie Curie  1867-11-07  1934-07-04   66        Chemist\n",
      "7          Johann Gauss  1777-04-30  1855-02-23   77  Mathematician\n"
     ]
    }
   ],
   "source": [
    "print(scientists[scientists['Age'] > scientists['Age'].mean()])"
   ]
  },
  {
   "cell_type": "code",
   "execution_count": 73,
   "id": "fafe2244-3484-4edd-85ce-b8532ad024c2",
   "metadata": {},
   "outputs": [
    {
     "name": "stdout",
     "output_type": "stream",
     "text": [
      "                                       Name                  Born  \\\n",
      "0        Rosaline FranklinRosaline Franklin  1920-07-251920-07-25   \n",
      "1              William GossetWilliam Gosset  1876-06-131876-06-13   \n",
      "2  Florence NightingaleFlorence Nightingale  1820-05-121820-05-12   \n",
      "3                    Marie CurieMarie Curie  1867-11-071867-11-07   \n",
      "4                Rachel CarsonRachel Carson  1907-05-271907-05-27   \n",
      "5                        John SnowJohn Snow  1813-03-151813-03-15   \n",
      "6                    Alan TuringAlan Turing  1912-06-231912-06-23   \n",
      "7                  Johann GaussJohann Gauss  1777-04-301777-04-30   \n",
      "\n",
      "                   Died  Age                            Occupation  \n",
      "0  1958-04-161958-04-16   74                        ChemistChemist  \n",
      "1  1937-10-161937-10-16  122              StatisticianStatistician  \n",
      "2  1910-08-131910-08-13  180                            NurseNurse  \n",
      "3  1934-07-041934-07-04  132                        ChemistChemist  \n",
      "4  1964-04-141964-04-14  112                    BiologistBiologist  \n",
      "5  1858-06-161858-06-16   90                    PhysicianPhysician  \n",
      "6  1954-06-071954-06-07   82  Computer ScientistComputer Scientist  \n",
      "7  1855-02-231855-02-23  154            MathematicianMathematician  \n"
     ]
    }
   ],
   "source": [
    "print(scientists*2)"
   ]
  },
  {
   "cell_type": "code",
   "execution_count": 77,
   "id": "c9d43daf-cc33-43b5-a754-bedc961456fe",
   "metadata": {},
   "outputs": [
    {
     "name": "stdout",
     "output_type": "stream",
     "text": [
      "object\n",
      "object\n"
     ]
    }
   ],
   "source": [
    "print(scientists['Born'].dtype)\n",
    "print(scientists['Died'].dtype)\n"
   ]
  },
  {
   "cell_type": "code",
   "execution_count": 106,
   "id": "aa50bb2b-429f-4b59-942e-480e7e185b32",
   "metadata": {},
   "outputs": [
    {
     "name": "stdout",
     "output_type": "stream",
     "text": [
      "0    1920-07-25\n",
      "1    1876-06-13\n",
      "2    1820-05-12\n",
      "3    1867-11-07\n",
      "4    1907-05-27\n",
      "5    1813-03-15\n",
      "6    1912-06-23\n",
      "7    1777-04-30\n",
      "Name: Born, dtype: object\n",
      "0   1920-07-25\n",
      "1   1876-06-13\n",
      "2   1820-05-12\n",
      "3   1867-11-07\n",
      "4   1907-05-27\n",
      "5   1813-03-15\n",
      "6   1912-06-23\n",
      "7   1777-04-30\n",
      "Name: Born, dtype: datetime64[ns]\n"
     ]
    }
   ],
   "source": [
    "# 날짜 문자열을 datetime 자료형으로 바꾼다.\n",
    "print(scientists['Born'])\n",
    "born_datetime = pd.to_datetime(scientists['Born'], format='%Y-%m-%d')\n",
    "print(born_datetime)"
   ]
  },
  {
   "cell_type": "code",
   "execution_count": 108,
   "id": "7da0c3db-760a-4f7b-ac02-9dcb577ea7fc",
   "metadata": {},
   "outputs": [
    {
     "name": "stdout",
     "output_type": "stream",
     "text": [
      "0   1958-04-16\n",
      "1   1937-10-16\n",
      "2   1910-08-13\n",
      "3   1934-07-04\n",
      "4   1964-04-14\n",
      "5   1858-06-16\n",
      "6   1954-06-07\n",
      "7   1855-02-23\n",
      "Name: Died, dtype: datetime64[ns]\n"
     ]
    }
   ],
   "source": [
    "# 날짜 문자열을 datetime 자료형으로 바꾼다.\n",
    "died_datetime = pd.to_datetime(scientists['Died'], format='%Y-%m-%d')\n",
    "print(died_datetime)"
   ]
  },
  {
   "cell_type": "code",
   "execution_count": 112,
   "id": "173c477a-fe1d-448d-8e8d-2f18904da3d5",
   "metadata": {},
   "outputs": [
    {
     "name": "stdout",
     "output_type": "stream",
     "text": [
      "                   Name        Born        Died  Age    Occupation    born_dt  \\\n",
      "0     Rosaline Franklin  1920-07-25  1958-04-16   37       Chemist 1920-07-25   \n",
      "1        William Gosset  1876-06-13  1937-10-16   61  Statistician 1876-06-13   \n",
      "2  Florence Nightingale  1820-05-12  1910-08-13   90         Nurse 1820-05-12   \n",
      "3           Marie Curie  1867-11-07  1934-07-04   66       Chemist 1867-11-07   \n",
      "4         Rachel Carson  1907-05-27  1964-04-14   56     Biologist 1907-05-27   \n",
      "\n",
      "     died_dt  \n",
      "0 1958-04-16  \n",
      "1 1937-10-16  \n",
      "2 1910-08-13  \n",
      "3 1934-07-04  \n",
      "4 1964-04-14  \n",
      "(8, 7)\n"
     ]
    }
   ],
   "source": [
    "# 열 추가\n",
    "scientists['born_dt'], scientists['died_dt'] = (born_datetime, died_datetime)\n",
    "print(scientists.head())\n",
    "print(scientists.shape)"
   ]
  },
  {
   "cell_type": "code",
   "execution_count": 116,
   "id": "b145274c-0506-4f69-bb64-c8997ea470c2",
   "metadata": {},
   "outputs": [
    {
     "name": "stdout",
     "output_type": "stream",
     "text": [
      "                   Name        Born        Died  Age          Occupation  \\\n",
      "0     Rosaline Franklin  1920-07-25  1958-04-16   37             Chemist   \n",
      "1        William Gosset  1876-06-13  1937-10-16   61        Statistician   \n",
      "2  Florence Nightingale  1820-05-12  1910-08-13   90               Nurse   \n",
      "3           Marie Curie  1867-11-07  1934-07-04   66             Chemist   \n",
      "4         Rachel Carson  1907-05-27  1964-04-14   56           Biologist   \n",
      "5             John Snow  1813-03-15  1858-06-16   45           Physician   \n",
      "6           Alan Turing  1912-06-23  1954-06-07   41  Computer Scientist   \n",
      "7          Johann Gauss  1777-04-30  1855-02-23   77       Mathematician   \n",
      "\n",
      "     born_dt    died_dt age_days_dt  \n",
      "0 1920-07-25 1958-04-16  13779 days  \n",
      "1 1876-06-13 1937-10-16  22404 days  \n",
      "2 1820-05-12 1910-08-13  32964 days  \n",
      "3 1867-11-07 1934-07-04  24345 days  \n",
      "4 1907-05-27 1964-04-14  20777 days  \n",
      "5 1813-03-15 1858-06-16  16529 days  \n",
      "6 1912-06-23 1954-06-07  15324 days  \n",
      "7 1777-04-30 1855-02-23  28422 days  \n"
     ]
    }
   ],
   "source": [
    "# 열 추가\n",
    "scientists['age_days_dt'] = (scientists['died_dt'] - scientists['born_dt'])\n",
    "print(scientists)"
   ]
  },
  {
   "cell_type": "code",
   "execution_count": 120,
   "id": "5d9648a0-b6da-4df4-acb4-5cc6bb28d5fe",
   "metadata": {},
   "outputs": [
    {
     "name": "stdout",
     "output_type": "stream",
     "text": [
      "0    37\n",
      "1    61\n",
      "2    90\n",
      "3    66\n",
      "4    56\n",
      "5    45\n",
      "6    41\n",
      "7    77\n",
      "Name: Age, dtype: int64\n",
      "0    66\n",
      "1    56\n",
      "2    41\n",
      "3    77\n",
      "4    90\n",
      "5    45\n",
      "6    37\n",
      "7    61\n",
      "Name: Age, dtype: int64\n"
     ]
    },
    {
     "name": "stderr",
     "output_type": "stream",
     "text": [
      "/Users/bangchan-u/anaconda3/lib/python3.11/random.py:383: SettingWithCopyWarning: \n",
      "A value is trying to be set on a copy of a slice from a DataFrame\n",
      "\n",
      "See the caveats in the documentation: https://pandas.pydata.org/pandas-docs/stable/user_guide/indexing.html#returning-a-view-versus-a-copy\n",
      "  x[i], x[j] = x[j], x[i]\n"
     ]
    }
   ],
   "source": [
    "# 섞기\n",
    "print(scientists['Age'])\n",
    "\n",
    "import random\n",
    "random.seed(42)\n",
    "random.shuffle(scientists['Age'])\n",
    "print(scientists['Age'])"
   ]
  },
  {
   "cell_type": "code",
   "execution_count": 126,
   "id": "b67ea8d5-769a-4978-8ba2-0cfd45c97253",
   "metadata": {},
   "outputs": [
    {
     "name": "stdout",
     "output_type": "stream",
     "text": [
      "Index(['Name', 'Born', 'Died', 'Age', 'Occupation', 'born_dt', 'died_dt',\n",
      "       'age_days_dt'],\n",
      "      dtype='object')\n",
      "                   Name        Born        Died          Occupation  \\\n",
      "0     Rosaline Franklin  1920-07-25  1958-04-16             Chemist   \n",
      "1        William Gosset  1876-06-13  1937-10-16        Statistician   \n",
      "2  Florence Nightingale  1820-05-12  1910-08-13               Nurse   \n",
      "3           Marie Curie  1867-11-07  1934-07-04             Chemist   \n",
      "4         Rachel Carson  1907-05-27  1964-04-14           Biologist   \n",
      "5             John Snow  1813-03-15  1858-06-16           Physician   \n",
      "6           Alan Turing  1912-06-23  1954-06-07  Computer Scientist   \n",
      "7          Johann Gauss  1777-04-30  1855-02-23       Mathematician   \n",
      "\n",
      "     born_dt    died_dt age_days_dt  \n",
      "0 1920-07-25 1958-04-16  13779 days  \n",
      "1 1876-06-13 1937-10-16  22404 days  \n",
      "2 1820-05-12 1910-08-13  32964 days  \n",
      "3 1867-11-07 1934-07-04  24345 days  \n",
      "4 1907-05-27 1964-04-14  20777 days  \n",
      "5 1813-03-15 1858-06-16  16529 days  \n",
      "6 1912-06-23 1954-06-07  15324 days  \n",
      "7 1777-04-30 1855-02-23  28422 days  \n"
     ]
    }
   ],
   "source": [
    "# 열 삭제\n",
    "print(scientists.columns)\n",
    "\n",
    "scientists_dropped = scientists.drop(['Age'], axis=1)\n",
    "print(scientists_dropped)"
   ]
  },
  {
   "cell_type": "code",
   "execution_count": 130,
   "id": "fe948d94-d6c7-4254-90df-a7f93b11697e",
   "metadata": {},
   "outputs": [],
   "source": [
    "# 피클은 데이터를 바이너리 형태로 직렬화한 오브젝트를 저장하는 방법이다.\n",
    "# 피클로 저장하면 스프레드시트보다 더 작은 용량으로 데이터를 저장할 수 있어 매우 편리하다.\n",
    "# 시리즈를 피클로 저장하기 위해 to_pickle 메서드 사용하기\n",
    "names = scientists['Name']\n",
    "names.to_pickle('../output/scientists_names_series.pickle')"
   ]
  },
  {
   "cell_type": "code",
   "execution_count": 132,
   "id": "904a2d38-70f2-49f9-bee8-13d387ef8874",
   "metadata": {},
   "outputs": [],
   "source": [
    "scientists.to_pickle('../output/scientists_df.pickle')"
   ]
  },
  {
   "cell_type": "code",
   "execution_count": 134,
   "id": "949c3370-b95f-4935-a1b0-9b2f63d963de",
   "metadata": {},
   "outputs": [
    {
     "name": "stdout",
     "output_type": "stream",
     "text": [
      "0       Rosaline Franklin\n",
      "1          William Gosset\n",
      "2    Florence Nightingale\n",
      "3             Marie Curie\n",
      "4           Rachel Carson\n",
      "5               John Snow\n",
      "6             Alan Turing\n",
      "7            Johann Gauss\n",
      "Name: Name, dtype: object\n"
     ]
    }
   ],
   "source": [
    "# 피클 읽기\n",
    "scientists_names_from_pickle = pd.read_pickle('../output/scientists_names_series.pickle')\n",
    "print(scientists_names_from_pickle)"
   ]
  },
  {
   "cell_type": "code",
   "execution_count": 136,
   "id": "983d0ac1-88cc-4fe9-afbc-3c74fab8c980",
   "metadata": {},
   "outputs": [
    {
     "name": "stdout",
     "output_type": "stream",
     "text": [
      "                   Name        Born        Died  Age          Occupation  \\\n",
      "0     Rosaline Franklin  1920-07-25  1958-04-16   66             Chemist   \n",
      "1        William Gosset  1876-06-13  1937-10-16   56        Statistician   \n",
      "2  Florence Nightingale  1820-05-12  1910-08-13   41               Nurse   \n",
      "3           Marie Curie  1867-11-07  1934-07-04   77             Chemist   \n",
      "4         Rachel Carson  1907-05-27  1964-04-14   90           Biologist   \n",
      "5             John Snow  1813-03-15  1858-06-16   45           Physician   \n",
      "6           Alan Turing  1912-06-23  1954-06-07   37  Computer Scientist   \n",
      "7          Johann Gauss  1777-04-30  1855-02-23   61       Mathematician   \n",
      "\n",
      "     born_dt    died_dt age_days_dt  \n",
      "0 1920-07-25 1958-04-16  13779 days  \n",
      "1 1876-06-13 1937-10-16  22404 days  \n",
      "2 1820-05-12 1910-08-13  32964 days  \n",
      "3 1867-11-07 1934-07-04  24345 days  \n",
      "4 1907-05-27 1964-04-14  20777 days  \n",
      "5 1813-03-15 1858-06-16  16529 days  \n",
      "6 1912-06-23 1954-06-07  15324 days  \n",
      "7 1777-04-30 1855-02-23  28422 days  \n"
     ]
    }
   ],
   "source": [
    "scientists_from_pickle = pd.read_pickle('../output/scientists_df.pickle')\n",
    "print(scientists_from_pickle)"
   ]
  },
  {
   "cell_type": "code",
   "execution_count": 138,
   "id": "f093eba5-6faf-4f21-ba58-6e3486be5223",
   "metadata": {},
   "outputs": [],
   "source": [
    "# csv 파일과 tsv 파일\n",
    "# csv 파일은 데이터를 쉼표로 구분하여 저장한 파일이다.\n",
    "# tsv 파일은 데이터를 탭으로 구분하여 저장한 파일이다.\n",
    "\n",
    "# 시리즈 또는 데이터프레임을 csv 파일로 저장하기\n",
    "names.to_csv(\"../output/scientist_names_series.csv\")\n",
    "\n",
    "# 시리즈 또는 데이터프레임을 tsv 파일로 저장하기 -> 확장자는 .tsv, sep은 tab\n",
    "scientists.to_csv(\"../output/scientist_names_series.tsv\", sep=\"\\t\")\n",
    "\n"
   ]
  },
  {
   "cell_type": "code",
   "execution_count": null,
   "id": "c686b3cd-de46-476e-b461-801494cebd74",
   "metadata": {},
   "outputs": [],
   "source": [
    "# 시리즈는 엑셀 구조와 맞지 않기 때문에 엑셀 파일로 저장할 수 없습니다.\n",
    "# 엑셀 파일로 저장하기 위해서는 데이터프레임으로 변환해야 한다. (데이터프레임은 엑셀파일로 변환 가능)\n",
    "# 단, xlwt(.xls 저장), openpyxl(.xlsx 저장) 라이브러리가 필요하다.\n",
    "names_df = names.to_frame()\n",
    "import xlwt\n",
    "\n",
    "names_df.to_excel(\"../output/scientist_names_series.xls\")\n",
    "\n"
   ]
  },
  {
   "cell_type": "code",
   "execution_count": null,
   "id": "168e4963-bf6f-43ab-87ba-e7b8351a6504",
   "metadata": {},
   "outputs": [],
   "source": []
  },
  {
   "cell_type": "code",
   "execution_count": null,
   "id": "812f02dc-9315-48cb-8e3b-26796fab9775",
   "metadata": {},
   "outputs": [],
   "source": []
  },
  {
   "cell_type": "code",
   "execution_count": null,
   "id": "a78478bf-1bdf-4407-a2f0-a1c5e6b8f7e4",
   "metadata": {},
   "outputs": [],
   "source": []
  },
  {
   "cell_type": "code",
   "execution_count": null,
   "id": "ae71b0d2-b61a-443d-a84b-8fbb2cd484c6",
   "metadata": {},
   "outputs": [],
   "source": []
  }
 ],
 "metadata": {
  "kernelspec": {
   "display_name": "Python 3 (ipykernel)",
   "language": "python",
   "name": "python3"
  },
  "language_info": {
   "codemirror_mode": {
    "name": "ipython",
    "version": 3
   },
   "file_extension": ".py",
   "mimetype": "text/x-python",
   "name": "python",
   "nbconvert_exporter": "python",
   "pygments_lexer": "ipython3",
   "version": "3.11.4"
  }
 },
 "nbformat": 4,
 "nbformat_minor": 5
}
